{
 "cells": [
  {
   "cell_type": "markdown",
   "id": "bd6e5c7c",
   "metadata": {},
   "source": [
    "# Using Soundscape Simulation to Evaluate Compositions for a Public Space Sound Installation\n",
    "\n",
    "## Valérian Fraisse\n",
    " \n",
    "The present code was used to generate reaper projects corresponding to randomized baseline audio reported in the journal article 'Using Soundscape Simulation to Evaluate Compositions for a Public Space Sound Installation' by Fraisse V., Schütz N., Wanderley M., Guastavino C., and Misdariis N., under publication to the Journal of the Acoustical Society of America. "
   ]
  },
  {
   "cell_type": "code",
   "execution_count": null,
   "id": "b09946e6",
   "metadata": {},
   "outputs": [],
   "source": [
    "import random\n",
    "from reathon.nodes import *\n",
    "import os\n",
    "import contextlib\n",
    "import wave\n",
    "from itertools import groupby\n",
    "\n",
    "data_dir = os.path.join(os.getcwd(), 'Excerpts')"
   ]
  },
  {
   "cell_type": "code",
   "execution_count": 2,
   "id": "405bbaf4",
   "metadata": {},
   "outputs": [],
   "source": [
    "sources = []\n",
    "lengths = []\n",
    "randlists = []\n",
    "inlist = []\n",
    "\n",
    "# Initialize number of excerpts\n",
    "ne = 0\n",
    "# Number of participants\n",
    "np = 20\n",
    "# Crossfade duration in seconds\n",
    "xfade = 3\n",
    "\n",
    "\n",
    "\n",
    "# Generating list of excerpts\n",
    "for x in os.listdir(data_dir):\n",
    "    if x.endswith('.wav'):\n",
    "        ne += 1\n",
    "        sources.append(Source(file = x))\n",
    "        with contextlib.closing(wave.open(os.path.join(data_dir,x), 'r')) as f:\n",
    "            lengths.append(f.getnframes()/float(f.getframerate()))\n",
    "            \n",
    "for i in range(ne):\n",
    "    inlist.append(i)\n",
    "    inlist.append(i)\n",
    "            \n",
    "for i in range(np):\n",
    "    randwithdup=random.sample(inlist, k = ne*2)\n",
    "    randlists.append([x for x,_ in groupby(randwithdup)])"
   ]
  },
  {
   "cell_type": "code",
   "execution_count": 3,
   "id": "27ea59e0",
   "metadata": {},
   "outputs": [],
   "source": [
    "p = 0\n",
    "pos_list = []\n",
    "\n",
    "# Generating .rpp files\n",
    "for randlist in randlists:\n",
    "    track = Track()\n",
    "    pos = 0.0\n",
    "    # Track parameters\n",
    "    track.props = [\n",
    "        [\"NCHAN\", 32],\n",
    "        [\"REC\", \"0 2112 1 0 0 0 0\"],\n",
    "        [\"MAINSEND\", \"0 0\"],\n",
    "        [\"HWOUT\", \"64 0 1 0 0 0 16384 -1:U -1\"],\n",
    "        [\"VU\", 2],\n",
    "        [\"TRACKHEIGHT\", \"450 0 0 0 0 0\"],\n",
    "         \n",
    "    ]\n",
    "    \n",
    "    for i in randlist:\n",
    "        pos_list.append(round(pos, 2))\n",
    "        # Audio item parameters\n",
    "        item = Item(sources[i])\n",
    "        item.props = [\n",
    "            [\"LENGTH\", lengths[i]],\n",
    "            [\"POSITION\", pos],\n",
    "            # Fade in/out settings\n",
    "            # field 1, int, fade in curve type (?)\n",
    "            # field 2, float, fade in time (in seconds) (?)\n",
    "            # field 3, float, autocrossfade length\n",
    "            # field 4, float, ? (bool)\n",
    "            # field 5, float, autocrossfade is on\n",
    "            # field 6, float, fade shape\n",
    "            # field 7, float, ? (bool?)\n",
    "            [\"FADEIN\", \"1 0 \" + str(xfade) + \" 1 1 0 0\"],\n",
    "            [\"FADEOUT\", \"1 0 \" + str(xfade) + \" 1 1 0 0\"]\n",
    "        ]\n",
    "        track.add(item)\n",
    "        pos += lengths[i] - xfade\n",
    "\n",
    "        baseline_project = Project(track)\n",
    "        \n",
    "    baseline_project.write(\"baseline_exp1_P\" + str(p+2) + \".rpp\")\n",
    "    p += 1"
   ]
  }
 ],
 "metadata": {
  "kernelspec": {
   "display_name": "Python 3",
   "language": "python",
   "name": "python3"
  },
  "language_info": {
   "codemirror_mode": {
    "name": "ipython",
    "version": 3
   },
   "file_extension": ".py",
   "mimetype": "text/x-python",
   "name": "python",
   "nbconvert_exporter": "python",
   "pygments_lexer": "ipython3",
   "version": "3.11.2"
  }
 },
 "nbformat": 4,
 "nbformat_minor": 5
}
